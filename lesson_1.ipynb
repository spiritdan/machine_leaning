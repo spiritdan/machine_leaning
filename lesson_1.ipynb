{
 "cells": [
  {
   "cell_type": "markdown",
   "metadata": {
    "collapsed": true
   },
   "source": [
    ""
   ]
  },
  {
   "cell_type": "code",
   "execution_count": null,
   "metadata": {},
   "outputs": [],
   "source": [
    ""
   ]
  },
  {
   "cell_type": "code",
   "execution_count": 2,
   "metadata": {
    "collapsed": false
   },
   "outputs": [
    {
     "name": "stdout",
     "output_type": "stream",
     "text": [
      "[[      nan       nan       nan       nan       nan]\n [1.986e+03       nan       nan       nan 0.000e+00]\n [1.986e+03       nan       nan       nan 5.000e-01]\n ...\n [1.987e+03       nan       nan       nan 7.500e-01]\n [1.989e+03       nan       nan       nan 1.500e+00]\n [1.985e+03       nan       nan       nan 3.100e-01]]\n"
     ]
    }
   ],
   "source": [
    "import numpy\n",
    "world_alcohol=numpy.genfromtxt(\"world_alcohol.txt\",delimiter=\",\")\n",
    "print(world_alcohol)"
   ]
  },
  {
   "cell_type": "code",
   "execution_count": 3,
   "metadata": {},
   "outputs": [
    {
     "name": "stdout",
     "output_type": "stream",
     "text": [
      "0.0\n"
     ]
    }
   ],
   "source": [
    "print(world_alcohol[1,4])"
   ]
  },
  {
   "cell_type": "code",
   "execution_count": 4,
   "metadata": {},
   "outputs": [
    {
     "name": "stdout",
     "output_type": "stream",
     "text": [
      "[ 5 10 15]\n"
     ]
    }
   ],
   "source": [
    "vector=numpy.array([5,10,15,20])\n",
    "print(vector[0:3])"
   ]
  },
  {
   "cell_type": "code",
   "execution_count": 3,
   "metadata": {},
   "outputs": [
    {
     "name": "stdout",
     "output_type": "stream",
     "text": [
      "[10 25 40]\n[[ 5 10]\n [20 25]\n [35 40]]\n"
     ]
    }
   ],
   "source": [
    "matrix=numpy.array([[5, 10, 15], [20, 25, 30], [35, 40,45]])\n",
    "print(matrix[:,1])\n",
    "print(matrix[:,0:2]) "
   ]
  },
  {
   "cell_type": "markdown",
   "metadata": {},
   "source": [
    "\n"
   ]
  },
  {
   "cell_type": "markdown",
   "metadata": {},
   "source": []
  },
  {
   "cell_type": "markdown",
   "metadata": {},
   "source": [
    "\n"
   ]
  },
  {
   "cell_type": "code",
   "execution_count": 6,
   "metadata": {},
   "outputs": [
    {
     "data": {
      "text/plain": [
       "array([[False, False, False],\n       [False,  True, False],\n       [False, False, False]])"
      ]
     },
     "execution_count": 6,
     "metadata": {},
     "output_type": "execute_result"
    }
   ],
   "source": [
    "matrix=numpy.array([[5, 10, 15], [20, 25, 30], [35, 40,45]])\n",
    "matrix==25"
   ]
  },
  {
   "cell_type": "code",
   "execution_count": 11,
   "metadata": {},
   "outputs": [
    {
     "name": "stdout",
     "output_type": "stream",
     "text": [
      "[False  True False False]\n"
     ]
    },
    {
     "data": {
      "text/plain": [
       "array([10])"
      ]
     },
     "execution_count": 11,
     "metadata": {},
     "output_type": "execute_result"
    }
   ],
   "source": [
    "vector=numpy.array([5,10,15,20])\n",
    "equal_to_ten=(vector==10)\n",
    "print(equal_to_ten)\n",
    "vector[equal_to_ten]"
   ]
  },
  {
   "cell_type": "code",
   "execution_count": 20,
   "metadata": {},
   "outputs": [
    {
     "name": "stdout",
     "output_type": "stream",
     "text": [
      "[ True  True False False]\n"
     ]
    }
   ],
   "source": [
    "vector=numpy.array([5,10,15,20])\n",
    "equal_to_ten=(vector==10) | (vector==5)\n",
    "print(equal_to_ten)"
   ]
  },
  {
   "cell_type": "code",
   "execution_count": 21,
   "metadata": {},
   "outputs": [
    {
     "data": {
      "text/plain": [
       "dtype('int32')"
      ]
     },
     "execution_count": 21,
     "metadata": {},
     "output_type": "execute_result"
    }
   ],
   "source": [
    "vector=numpy.array([5,10,15,20])\n",
    "vector.dtype"
   ]
  },
  {
   "cell_type": "code",
   "execution_count": 23,
   "metadata": {},
   "outputs": [
    {
     "name": "stdout",
     "output_type": "stream",
     "text": [
      "12.5\n20\n"
     ]
    }
   ],
   "source": [
    "vector=numpy.array([5,10,15,20])\n",
    "print(vector.mean())\n",
    "print(vector.max())"
   ]
  },
  {
   "cell_type": "markdown",
   "metadata": {},
   "source": []
  },
  {
   "cell_type": "markdown",
   "metadata": {},
   "source": [
    "axis=1行相加 axis=0 列相加"
   ]
  },
  {
   "cell_type": "code",
   "execution_count": 2,
   "metadata": {},
   "outputs": [
    {
     "data": {
      "text/plain": [
       "array([ 30,  75, 120])"
      ]
     },
     "execution_count": 2,
     "metadata": {},
     "output_type": "execute_result"
    }
   ],
   "source": [
    "import numpy\n",
    "matrix=numpy.array([[5, 10, 15], \n",
    "                    [20, 25, 30], \n",
    "                    [35, 40,45]])\n",
    "matrix.sum(axis=1)\n"
   ]
  },
  {
   "cell_type": "code",
   "execution_count": 25,
   "metadata": {},
   "outputs": [
    {
     "data": {
      "text/plain": [
       "array([60, 75, 90])"
      ]
     },
     "execution_count": 25,
     "metadata": {},
     "output_type": "execute_result"
    }
   ],
   "source": [
    "matrix=numpy.array([[5, 10, 15], \n",
    "                    [20, 25, 30], \n",
    "                    [35, 40,45]])\n",
    "matrix.sum(axis=0)"
   ]
  },
  {
   "cell_type": "markdown",
   "metadata": {},
   "source": [
    "test"
   ]
  },
  {
   "cell_type": "code",
   "execution_count": 3,
   "metadata": {
    "collapsed": true
   },
   "outputs": [
    {
     "name": "stdout",
     "output_type": "stream",
     "text": [
      "[0.000e+00 0.000e+00 5.000e-01 1.620e+00 4.270e+00 1.980e+00 0.000e+00\n 1.300e-01 3.900e-01 1.550e+00 6.100e+00 2.000e-01 6.200e-01 0.000e+00\n 0.000e+00 5.000e-02 7.000e-02 6.000e-02 2.230e+00 1.620e+00 1.080e+00\n 0.000e+00 4.510e+00 2.670e+00 4.400e-01 0.000e+00 0.000e+00 1.360e+00\n 2.220e+00 1.100e-01 0.000e+00 4.480e+00 0.000e+00 1.600e+00 0.000e+00\n 8.000e-01 2.240e+00 7.000e-02 3.040e+00 0.000e+00 1.000e-02 1.900e+00\n 6.820e+00 3.060e+00 3.000e-02 0.000e+00 1.900e-01 2.260e+00 4.000e-02\n 7.000e-01 1.490e+00 3.000e-01 3.880e+00 0.000e+00 0.000e+00 1.810e+00\n 4.000e-02 0.000e+00 5.100e+00 0.000e+00 0.000e+00 0.000e+00 8.000e-02\n 0.000e+00 0.000e+00 1.260e+00 0.000e+00 1.000e-02 0.000e+00 1.200e-01\n 4.200e-01 1.020e+00 5.700e-01 0.000e+00 1.000e-02 2.060e+00 0.000e+00\n 2.000e-02 1.000e-02 0.000e+00 2.090e+00 8.400e-01 2.540e+00 2.250e+00\n 0.000e+00 0.000e+00 1.000e-02 1.830e+00 1.000e-02 4.200e-01 7.000e-01\n 1.000e-02 4.430e+00 0.000e+00 0.000e+00 3.060e+00 0.000e+00 7.380e+00\n 0.000e+00 0.000e+00 0.000e+00 1.490e+00 0.000e+00 1.000e-02 3.000e-02\n 0.000e+00 1.900e-01 0.000e+00 1.960e+00 2.600e-01 6.360e+00 1.420e+00\n 2.730e+00 7.900e-01 2.020e+00 2.840e+00 7.360e+00 3.400e-01 1.640e+00\n 1.000e-02 1.170e+00 3.600e-01 0.000e+00 0.000e+00 3.550e+00 7.010e+00\n 4.120e+00 3.080e+00 1.140e+00 1.020e+00 7.200e-01 3.440e+00 1.140e+00\n 2.600e+00 7.010e+00 2.700e+00 1.000e-02 0.000e+00 1.000e-02 0.000e+00\n 0.000e+00 9.600e-01 9.000e-02 1.550e+00 7.490e+00 0.000e+00 0.000e+00\n 3.350e+00 0.000e+00 0.000e+00 4.400e-01 3.690e+00 2.990e+00 8.300e-01\n 4.610e+00 7.420e+00 1.250e+00 5.400e-01 0.000e+00 1.400e-01 3.400e-01\n 2.060e+00 2.270e+00 8.900e+00 5.800e-01 0.000e+00 1.000e-02 4.300e-01\n 1.450e+00 0.000e+00 0.000e+00 7.400e-01 1.570e+00 1.000e-02 3.120e+00\n 3.680e+00 3.490e+00 3.560e+00 2.070e+00 3.420e+00 3.000e-02 9.900e-01\n 1.000e-02 2.210e+00 0.000e+00 1.300e-01 5.000e-02 1.160e+00 4.200e-01\n 3.000e-02 0.000e+00 0.000e+00 4.810e+00 1.600e-01 1.000e-02 1.100e-01\n 2.960e+00 0.000e+00 9.600e-01 1.024e+01 7.000e-02 0.000e+00 1.690e+00\n 1.000e-02 6.400e-01 0.000e+00 2.800e-01 1.000e-02 4.500e+00 3.100e+00\n 0.000e+00 6.080e+00 1.000e-02 2.800e-01 0.000e+00 2.940e+00 1.020e+00\n 1.940e+00 0.000e+00 0.000e+00 3.020e+00 2.720e+00 3.040e+00 4.400e-01\n 1.010e+00 0.000e+00 7.000e-02 4.800e-01 1.500e-01 1.700e-01 2.760e+00\n 0.000e+00 1.800e-01 1.120e+00 7.000e-02 4.300e-01 8.000e-02 2.320e+00\n 1.000e-02 0.000e+00 0.000e+00 1.740e+00 6.730e+00 0.000e+00 5.000e-01\n 2.750e+00 0.000e+00 3.600e-01 6.490e+00 9.000e-02 1.240e+00 7.500e-01\n 3.000e-02 1.000e-02 2.500e-01 3.340e+00 1.610e+00 5.900e-01 3.000e-02\n 1.900e+00 0.000e+00 0.000e+00 3.000e-02 1.220e+00 2.500e-01 2.360e+00\n 2.000e-01 1.320e+00 0.000e+00 5.000e-02 2.300e+00 1.000e-01 5.800e-01\n 1.650e+00 1.790e+00 1.270e+00 0.000e+00 8.000e-02 3.820e+00 0.000e+00\n 0.000e+00 0.000e+00 4.360e+00 1.890e+00 0.000e+00 0.000e+00 1.750e+00\n 0.000e+00 5.200e-01 1.000e-02 0.000e+00 3.000e-02 2.100e-01 0.000e+00\n 8.330e+00 2.000e-02 7.100e-01 0.000e+00 3.720e+00 0.000e+00 1.900e-01\n 0.000e+00 0.000e+00 0.000e+00 1.710e+00 1.300e-01 0.000e+00 4.900e-01\n 0.000e+00 0.000e+00 5.160e+00 0.000e+00 1.100e-01 5.000e-02 0.000e+00\n 1.980e+00 0.000e+00 9.000e-01 0.000e+00 0.000e+00 3.000e-02 1.900e-01\n 8.700e-01 3.300e-01 0.000e+00 1.000e-02 7.730e+00 0.000e+00 0.000e+00\n 0.000e+00 0.000e+00 1.840e+00 2.000e+00 1.090e+01 0.000e+00 2.000e-02\n 0.000e+00 9.700e-01 7.000e-02 0.000e+00 1.510e+00 0.000e+00 1.510e+00\n 0.000e+00 1.800e+00 1.000e-02 7.000e+00 0.000e+00 4.600e-01 5.000e+00\n 1.620e+00 1.100e-01 0.000e+00 5.000e+00 3.000e+00 0.000e+00 0.000e+00\n 0.000e+00 0.000e+00 5.700e-01 2.960e+00 2.700e-01 0.000e+00 3.300e-01\n 1.480e+00 0.000e+00 0.000e+00 9.400e-01 2.000e-02 5.090e+00 0.000e+00\n 4.390e+00 0.000e+00 4.910e+00 0.000e+00 0.000e+00 9.000e-02 1.340e+00\n 0.000e+00 1.100e-01 0.000e+00 8.000e-02 0.000e+00 0.000e+00 1.000e-02\n 1.000e-02 0.000e+00 4.770e+00 0.000e+00 1.100e-01 0.000e+00 6.500e-01\n 1.800e-01 1.900e+00 5.400e-01 0.000e+00 2.000e-01 4.080e+00 9.000e-02\n 4.540e+00 2.000e-02 0.000e+00 0.000e+00 1.370e+00 0.000e+00 0.000e+00\n 6.000e-02 1.630e+00 2.000e-02 2.810e+00 0.000e+00 0.000e+00 0.000e+00\n 0.000e+00 3.000e-01 1.000e-02 2.900e-01 0.000e+00 6.000e-02 0.000e+00\n 1.450e+00 3.300e+00 1.000e-02 2.650e+00 1.400e-01 0.000e+00 0.000e+00\n 0.000e+00 1.180e+00 8.000e-02 1.500e-01 9.000e-01 8.800e-01 2.000e-02\n 3.560e+00 4.420e+00 1.950e+00 1.000e-02 4.800e-01 0.000e+00 6.700e-01\n 3.500e-01 0.000e+00 1.750e+00 1.200e-01 4.000e-02 0.000e+00 1.010e+00\n 7.000e-02 7.580e+00 0.000e+00 1.800e-01 6.000e-02 6.000e-02 4.000e-02\n 2.610e+00 2.500e-01 7.860e+00 0.000e+00 5.000e-02 6.500e-01 0.000e+00\n 0.000e+00 9.700e-01 4.500e-01 2.090e+00 4.000e-02 1.000e-02 7.720e+00\n 0.000e+00 2.870e+00 0.000e+00 3.210e+00 0.000e+00 1.030e+00 5.180e+00\n 1.900e+00 0.000e+00 2.600e-01 1.450e+00 0.000e+00 0.000e+00 0.000e+00\n 0.000e+00 5.600e-01 9.000e-02 2.100e+00 0.000e+00 0.000e+00 1.400e-01\n 4.000e-02 1.830e+00 0.000e+00 3.900e-01 0.000e+00 2.600e-01 8.680e+00\n 2.950e+00 0.000e+00 1.000e-01 1.320e+00 0.000e+00 0.000e+00 1.650e+00\n 2.160e+00 5.100e+00 2.220e+00 6.000e-02 0.000e+00 6.900e+00 6.970e+00\n 0.000e+00 3.600e-01 2.550e+00 1.410e+00 1.000e-02 2.500e-01 0.000e+00\n 5.400e-01 2.930e+00 0.000e+00 1.000e-02 1.000e-02 2.100e-01 6.400e-01\n 3.800e-01 4.500e-01 1.320e+00 1.000e-02 4.170e+00 1.730e+00 7.800e+00\n 4.000e-02 0.000e+00 0.000e+00 2.460e+00 3.820e+00 6.000e-02 0.000e+00\n 1.540e+00 5.210e+00 2.210e+00 0.000e+00 3.600e-01 6.620e+00 1.480e+00\n 0.000e+00 0.000e+00 4.940e+00 9.200e-01 9.000e-02 2.680e+00 8.100e-01\n 0.000e+00 3.000e-02 0.000e+00 7.200e-01 6.100e-01 2.300e-01 2.000e-02\n 0.000e+00 5.950e+00 0.000e+00 0.000e+00 2.500e-01 0.000e+00 2.390e+00\n 2.350e+00 1.650e+00 0.000e+00 1.010e+01 1.490e+00 1.300e+00 1.550e+00\n 0.000e+00 1.700e-01 0.000e+00 8.200e-01 2.000e-02 2.450e+00 1.000e-01\n 1.170e+00 0.000e+00 9.000e-02 4.040e+00 0.000e+00 4.000e-02 3.450e+00\n 0.000e+00 1.780e+00 0.000e+00 0.000e+00 1.400e-01 7.200e-01 2.030e+00\n 0.000e+00 2.450e+00 2.450e+00 1.660e+00 0.000e+00 2.900e-01 5.100e-01\n 1.120e+00 2.690e+00 0.000e+00 6.650e+00 2.030e+00 2.200e+00 0.000e+00\n 7.000e-01 1.770e+00 5.070e+00 6.000e-02 4.800e-01 0.000e+00 1.590e+00\n 0.000e+00 2.590e+00 1.260e+00 1.380e+00 1.000e-02 0.000e+00 3.280e+00\n 0.000e+00 2.000e-02 0.000e+00 2.250e+00 0.000e+00 0.000e+00 6.200e-01\n 1.200e-01 1.320e+00 6.300e-01 4.000e-02 1.600e-01 6.000e-02 7.900e-01\n 1.600e-01 0.000e+00 0.000e+00 1.120e+01 0.000e+00 8.000e-02 0.000e+00\n 2.320e+00 2.000e-02 0.000e+00 4.000e-02 3.700e+00 1.000e+00 2.070e+00\n 0.000e+00 1.660e+00 1.030e+00 8.500e-01 5.000e-02 5.000e-02 1.170e+00\n 1.840e+00 0.000e+00 1.260e+00 2.720e+00 3.000e-02 0.000e+00 1.200e-01\n 1.800e+00 3.050e+00 2.000e-02 0.000e+00 0.000e+00 1.100e-01 3.490e+00\n 0.000e+00 5.800e-01 1.000e-02 2.400e-01 1.500e-01 1.080e+00 5.140e+00\n 3.660e+00 1.100e-01 1.800e+00 1.690e+00 0.000e+00 8.000e-02 0.000e+00\n 2.470e+00 1.050e+00 5.200e-01 5.900e-01 0.000e+00 2.320e+00 1.350e+01\n 0.000e+00 8.300e-01 0.000e+00 1.000e-02 0.000e+00 1.830e+00 2.530e+00\n 0.000e+00 3.190e+00 0.000e+00 7.000e-02 1.000e-02 1.000e-02 9.000e-01\n 3.970e+00 1.140e+00 1.560e+00 9.200e-01 9.500e-01 0.000e+00 0.000e+00\n 1.650e+00 0.000e+00 9.400e-01 3.900e-01 0.000e+00 3.320e+00 0.000e+00\n 2.360e+00 3.440e+00 0.000e+00 2.700e-01 5.270e+00 3.700e+00 3.340e+00\n 0.000e+00 1.570e+00 1.300e+00 9.000e-02 5.200e-01 2.890e+00 1.410e+00\n 0.000e+00 0.000e+00 2.960e+00 2.950e+00 4.000e-02 0.000e+00 0.000e+00\n 5.100e-01 0.000e+00 1.600e-01 0.000e+00 8.000e-01 3.080e+00 5.680e+00\n 0.000e+00 0.000e+00 6.000e-02 0.000e+00 8.500e-01 2.060e+00 7.000e-02\n 4.600e-01 2.500e+00 0.000e+00 0.000e+00 1.130e+00 2.800e-01 8.000e-01\n 0.000e+00 2.950e+00 7.000e-02 2.830e+00 8.200e-01 1.150e+00 6.000e-02\n 4.440e+00 1.150e+00 0.000e+00 0.000e+00 4.700e-01 1.200e-01 3.100e-01\n 1.500e-01 8.000e-02 0.000e+00 3.030e+00 1.050e+00 3.670e+00 1.000e-01\n 2.000e-02 2.970e+00 1.550e+00 2.280e+00 0.000e+00 2.450e+00 0.000e+00\n 0.000e+00 1.600e-01 3.200e-01 3.500e-01 1.020e+00 0.000e+00 0.000e+00\n 3.000e-02 2.460e+00 4.080e+00 9.300e-01 4.110e+00 0.000e+00 1.950e+00\n 1.390e+00 3.330e+00 4.200e-01 4.000e-02 2.700e-01 1.500e-01 2.000e-02\n 3.110e+00 0.000e+00 3.100e-01 0.000e+00 1.900e-01 2.000e-02 0.000e+00\n 0.000e+00 2.000e-02 1.000e-02 1.100e-01 3.850e+00 1.000e-02 1.500e-01\n 1.320e+00 0.000e+00 9.000e-02 2.000e-02 3.600e-01 1.000e-02 4.730e+00\n 1.170e+00 1.000e-02 0.000e+00 2.200e-01 9.000e-01 0.000e+00 0.000e+00\n 1.000e-02 2.660e+00 0.000e+00 0.000e+00 1.000e-01 3.300e-01 0.000e+00\n 0.000e+00 1.300e-01 1.000e-01 2.200e-01 2.480e+00 0.000e+00 0.000e+00\n 2.800e-01 0.000e+00 7.000e-02 1.000e-02 7.400e-01 6.140e+00 1.560e+00\n 2.820e+00 1.000e-02 7.390e+00 4.000e-02 1.200e-01 0.000e+00 7.000e-02\n 2.750e+00 2.100e-01 0.000e+00 1.000e-02 2.600e-01 8.800e-01 6.100e-01\n 1.500e-01 4.380e+00 1.100e-01 1.340e+00 2.820e+00 1.000e-02 1.090e+00\n 1.000e-02 3.870e+00 0.000e+00 1.210e+00 0.000e+00 3.110e+00 0.000e+00\n 1.400e+00 1.890e+00 2.000e-02 1.000e-02 1.390e+00 5.600e-01 4.200e+00\n 0.000e+00 6.000e-02 0.000e+00 0.000e+00 3.400e-01 9.400e-01 2.190e+00\n 6.930e+00 1.720e+00 2.010e+00 9.000e-02 1.690e+00 2.490e+00 1.000e-01\n 0.000e+00 1.080e+00 1.000e-02 1.000e-02 1.900e-01 6.860e+00 3.990e+00\n 2.600e+00 0.000e+00 1.400e-01 1.100e-01 0.000e+00 7.900e-01 3.000e-02\n 1.000e-02 2.010e+00 2.960e+00 2.500e-01 8.000e-02 0.000e+00 0.000e+00\n 0.000e+00 0.000e+00 0.000e+00 4.000e-02 0.000e+00 0.000e+00 0.000e+00\n 6.550e+00 0.000e+00 4.000e-02 0.000e+00 0.000e+00 1.000e-02 1.600e-01\n 0.000e+00 5.000e-01 7.170e+00 2.320e+00 2.400e-01 4.300e-01 7.000e-02\n 1.910e+00 5.220e+00 3.600e-01 2.300e-01 1.100e-01 0.000e+00 0.000e+00\n 0.000e+00 4.900e-01 1.050e+00 0.000e+00 2.000e-02 1.510e+00 3.500e+00\n 1.800e-01 1.970e+00 1.000e-02 0.000e+00 9.800e-01 3.880e+00 0.000e+00\n 8.000e-02 0.000e+00 0.000e+00 2.040e+00 2.240e+00 0.000e+00 3.550e+00\n 0.000e+00 1.000e-02 0.000e+00 3.000e-02 1.770e+00 0.000e+00 1.690e+00\n 2.500e-01 1.850e+00 4.500e-01 8.500e-01 1.045e+01 0.000e+00 3.000e-02\n 2.410e+00 7.500e-01 1.500e+00 3.100e-01]\n"
     ]
    }
   ],
   "source": [
    "import numpy\n",
    "world_alcohol=numpy.genfromtxt(\"world_alcohol.txt\",delimiter=\",\")\n",
    "#print(world_alcohol)\n",
    "ls_value_empty=numpy.nan_to_num(world_alcohol[:,4])\n",
    "#print(ls_value_empty)\n",
    "alcohol_consumption=numpy.nan_to_num(world_alcohol[:,4])\n",
    "alcohol_consumption=alcohol_consumption.astype(float)\n",
    "print(alcohol_consumption)"
   ]
  },
  {
   "cell_type": "markdown",
   "metadata": {},
   "source": [
    "test123\n"
   ]
  },
  {
   "cell_type": "code",
   "execution_count": 4,
   "metadata": {},
   "outputs": [
    {
     "name": "stdout",
     "output_type": "stream",
     "text": [
      "[ 0  1  2  3  4  5  6  7  8  9 10 11 12 13 14]\n"
     ]
    },
    {
     "data": {
      "text/plain": [
       "array([[ 0,  1,  2,  3,  4],\n       [ 5,  6,  7,  8,  9],\n       [10, 11, 12, 13, 14]])"
      ]
     },
     "execution_count": 4,
     "metadata": {},
     "output_type": "execute_result"
    }
   ],
   "source": [
    "import numpy as np\n",
    "\n",
    "print(np.arange(15))\n",
    "a=np.arange(15).reshape(3,5)\n",
    "a"
   ]
  },
  {
   "cell_type": "code",
   "execution_count": 5,
   "metadata": {},
   "outputs": [
    {
     "data": {
      "text/plain": [
       "(3, 5)"
      ]
     },
     "execution_count": 5,
     "metadata": {},
     "output_type": "execute_result"
    }
   ],
   "source": [
    "a.shape"
   ]
  },
  {
   "cell_type": "code",
   "execution_count": 6,
   "metadata": {},
   "outputs": [
    {
     "data": {
      "text/plain": [
       "2"
      ]
     },
     "execution_count": 6,
     "metadata": {},
     "output_type": "execute_result"
    }
   ],
   "source": [
    "a.ndim"
   ]
  },
  {
   "cell_type": "code",
   "execution_count": 13,
   "metadata": {},
   "outputs": [
    {
     "name": "stdout",
     "output_type": "stream",
     "text": [
      "[[[ 0  1  2  3  4]\n  [ 5  6  7  8  9]\n  [10 11 12 13 14]]]\n"
     ]
    }
   ],
   "source": [
    "a=np.arange(15).reshape(1,3,5)\n",
    "print(a)"
   ]
  },
  {
   "cell_type": "code",
   "execution_count": 14,
   "metadata": {},
   "outputs": [
    {
     "data": {
      "text/plain": [
       "3"
      ]
     },
     "execution_count": 14,
     "metadata": {},
     "output_type": "execute_result"
    }
   ],
   "source": [
    "a.ndim"
   ]
  },
  {
   "cell_type": "code",
   "execution_count": 17,
   "metadata": {},
   "outputs": [
    {
     "data": {
      "text/plain": [
       "dtype('int32')"
      ]
     },
     "execution_count": 17,
     "metadata": {},
     "output_type": "execute_result"
    }
   ],
   "source": [
    "a.dtype"
   ]
  },
  {
   "cell_type": "code",
   "execution_count": 18,
   "metadata": {},
   "outputs": [
    {
     "data": {
      "text/plain": [
       "15"
      ]
     },
     "execution_count": 18,
     "metadata": {},
     "output_type": "execute_result"
    }
   ],
   "source": [
    "a.size"
   ]
  },
  {
   "cell_type": "code",
   "execution_count": 19,
   "metadata": {},
   "outputs": [
    {
     "data": {
      "text/plain": [
       "array([[0., 0., 0., 0.],\n       [0., 0., 0., 0.],\n       [0., 0., 0., 0.]])"
      ]
     },
     "execution_count": 19,
     "metadata": {},
     "output_type": "execute_result"
    }
   ],
   "source": [
    "np.zeros((3,4))"
   ]
  },
  {
   "cell_type": "code",
   "execution_count": 20,
   "metadata": {},
   "outputs": [
    {
     "data": {
      "text/plain": [
       "array([[1., 1., 1., 1.],\n       [1., 1., 1., 1.],\n       [1., 1., 1., 1.]])"
      ]
     },
     "execution_count": 20,
     "metadata": {},
     "output_type": "execute_result"
    }
   ],
   "source": [
    "np.ones((3,4))"
   ]
  },
  {
   "cell_type": "code",
   "execution_count": 21,
   "metadata": {},
   "outputs": [
    {
     "data": {
      "text/plain": [
       "array([10, 15, 20, 25])"
      ]
     },
     "execution_count": 21,
     "metadata": {},
     "output_type": "execute_result"
    }
   ],
   "source": [
    "np.arange(10,30,5)"
   ]
  },
  {
   "cell_type": "markdown",
   "metadata": {},
   "source": []
  },
  {
   "cell_type": "code",
   "execution_count": 22,
   "metadata": {},
   "outputs": [
    {
     "data": {
      "text/plain": [
       "array([[0.31006636, 0.44656133, 0.38257048],\n       [0.82748992, 0.24556873, 0.09116956]])"
      ]
     },
     "execution_count": 22,
     "metadata": {},
     "output_type": "execute_result"
    }
   ],
   "source": [
    "np.random.random((2,3))"
   ]
  },
  {
   "cell_type": "code",
   "execution_count": 24,
   "metadata": {},
   "outputs": [
    {
     "data": {
      "text/plain": [
       "array([[-0.0201549 , -0.41533507,  0.55679227],\n       [-0.7442946 , -0.54595304,  0.97520691]])"
      ]
     },
     "execution_count": 24,
     "metadata": {},
     "output_type": "execute_result"
    }
   ],
   "source": [
    "np.random.random((2,3))*2-1"
   ]
  },
  {
   "cell_type": "markdown",
   "metadata": {},
   "source": []
  },
  {
   "cell_type": "code",
   "execution_count": 25,
   "metadata": {},
   "outputs": [
    {
     "data": {
      "text/plain": [
       "array([0.        , 0.06346652, 0.12693304, 0.19039955, 0.25386607,\n       0.31733259, 0.38079911, 0.44426563, 0.50773215, 0.57119866,\n       0.63466518, 0.6981317 , 0.76159822, 0.82506474, 0.88853126,\n       0.95199777, 1.01546429, 1.07893081, 1.14239733, 1.20586385,\n       1.26933037, 1.33279688, 1.3962634 , 1.45972992, 1.52319644,\n       1.58666296, 1.65012947, 1.71359599, 1.77706251, 1.84052903,\n       1.90399555, 1.96746207, 2.03092858, 2.0943951 , 2.15786162,\n       2.22132814, 2.28479466, 2.34826118, 2.41172769, 2.47519421,\n       2.53866073, 2.60212725, 2.66559377, 2.72906028, 2.7925268 ,\n       2.85599332, 2.91945984, 2.98292636, 3.04639288, 3.10985939,\n       3.17332591, 3.23679243, 3.30025895, 3.36372547, 3.42719199,\n       3.4906585 , 3.55412502, 3.61759154, 3.68105806, 3.74452458,\n       3.8079911 , 3.87145761, 3.93492413, 3.99839065, 4.06185717,\n       4.12532369, 4.1887902 , 4.25225672, 4.31572324, 4.37918976,\n       4.44265628, 4.5061228 , 4.56958931, 4.63305583, 4.69652235,\n       4.75998887, 4.82345539, 4.88692191, 4.95038842, 5.01385494,\n       5.07732146, 5.14078798, 5.2042545 , 5.26772102, 5.33118753,\n       5.39465405, 5.45812057, 5.52158709, 5.58505361, 5.64852012,\n       5.71198664, 5.77545316, 5.83891968, 5.9023862 , 5.96585272,\n       6.02931923, 6.09278575, 6.15625227, 6.21971879, 6.28318531])"
      ]
     },
     "execution_count": 25,
     "metadata": {},
     "output_type": "execute_result"
    }
   ],
   "source": [
    "from numpy import pi\n",
    "np.linspace(0,2*pi,100)"
   ]
  },
  {
   "cell_type": "code",
   "execution_count": 26,
   "metadata": {},
   "outputs": [
    {
     "name": "stdout",
     "output_type": "stream",
     "text": [
      "[20 30 40 50]\n[0 1 2 3]\n[20 29 38 47]\n[19 28 37 46]\n[0 1 4 9]\n[ True  True False False]\n"
     ]
    }
   ],
   "source": [
    "a=np.array([20,30,40,50])\n",
    "b=np.arange(4)\n",
    "print(a)\n",
    "print(b)\n",
    "\n",
    "c=a-b\n",
    "print(c)\n",
    "\n",
    "c=c-1\n",
    "print(c)\n",
    "\n",
    "print(b**2)\n",
    "print(a<35)"
   ]
  },
  {
   "cell_type": "code",
   "execution_count": 29,
   "metadata": {},
   "outputs": [
    {
     "name": "stdout",
     "output_type": "stream",
     "text": [
      "[[1 1]\n [0 1]]\n----------------\n[[2 1]\n [3 4]]\n----------------\n[[2 1]\n [0 4]]\n----------------\n[[5 5]\n [3 4]]\n----------------\n[[5 5]\n [3 4]]\n"
     ]
    }
   ],
   "source": [
    "a=np.array([[1,1],\n",
    "           [0,1]])\n",
    "b=np.array([[2,1],\n",
    "           [3,4]])\n",
    "print(a)\n",
    "print('----------------')\n",
    "print(b)\n",
    "print('----------------')\n",
    "print(a*b)\n",
    "print('----------------')\n",
    "\n",
    "print(a.dot(b))\n",
    "print('----------------')\n",
    "print(np.dot(a,b))"
   ]
  },
  {
   "cell_type": "markdown",
   "metadata": {},
   "source": []
  },
  {
   "cell_type": "code",
   "execution_count": 1,
   "metadata": {},
   "outputs": [
    {
     "name": "stdout",
     "output_type": "stream",
     "text": [
      "[0 1 2]\n[1.         2.71828183 7.3890561 ]\n[0.         1.         1.41421356]\n"
     ]
    }
   ],
   "source": [
    "import numpy as np\n",
    "b=np.arange(3)\n",
    "print(b)\n",
    "#numpy.exp()：返回e的幂次方，e是一个常数为2.71828\n",
    "print(np.exp(b))\n",
    "#取根号\n",
    "print(np.sqrt(b))"
   ]
  },
  {
   "cell_type": "code",
   "execution_count": 9,
   "metadata": {},
   "outputs": [
    {
     "name": "stdout",
     "output_type": "stream",
     "text": [
      "[[1. 9. 5. 1.]\n [8. 6. 1. 8.]\n [6. 0. 1. 2.]]\n===============矩阵转向量================\n[1. 9. 5. 1. 8. 6. 1. 8. 6. 0. 1. 2.]\n===============矩阵转向量================\n[[1. 9.]\n [5. 1.]\n [8. 6.]\n [1. 8.]\n [6. 0.]\n [1. 2.]]\n===============转置================\n[[1. 5. 8. 1. 6. 1.]\n [9. 1. 6. 8. 0. 2.]]\n===============矩阵转向量================\n[[1. 9.]\n [5. 1.]\n [8. 6.]\n [1. 8.]\n [6. 0.]\n [1. 2.]]\n"
     ]
    }
   ],
   "source": [
    "#floor向下取整\n",
    "a=np.floor(10*np.random.random((3,4)))\n",
    "print(a)\n",
    "print('===============矩阵转向量================')\n",
    "print(a.ravel())\n",
    "print('===============矩阵转向量================')\n",
    "a.shape=(6,2)\n",
    "print(a)\n",
    "print('===============转置================')\n",
    "print(a.T)\n",
    "print('===============矩阵结构确定可以用-1表示，不用计算================')\n",
    "a.shape=(6,-1)\n",
    "print(a)"
   ]
  },
  {
   "cell_type": "code",
   "execution_count": 11,
   "metadata": {},
   "outputs": [
    {
     "name": "stdout",
     "output_type": "stream",
     "text": [
      "[[1. 7. 7. 2.]\n [9. 4. 5. 1.]\n [2. 0. 6. 1.]]\n[[0. 7. 0. 3.]\n [8. 6. 5. 8.]\n [2. 1. 9. 3.]]\n=======按行拼接==========\n[[1. 7. 7. 2. 0. 7. 0. 3.]\n [9. 4. 5. 1. 8. 6. 5. 8.]\n [2. 0. 6. 1. 2. 1. 9. 3.]]\n=======按列拼接==========\n[[1. 7. 7. 2.]\n [9. 4. 5. 1.]\n [2. 0. 6. 1.]\n [0. 7. 0. 3.]\n [8. 6. 5. 8.]\n [2. 1. 9. 3.]]\n"
     ]
    }
   ],
   "source": [
    "a=np.floor(10*np.random.random((3,4)))\n",
    "b=np.floor(10*np.random.random((3,4)))\n",
    "print(a)\n",
    "print(b)\n",
    "print('=======按行拼接==========')\n",
    "print(np.hstack((a,b)))\n",
    "print('=======按列拼接==========')\n",
    "print(np.vstack((a,b)))"
   ]
  },
  {
   "cell_type": "code",
   "execution_count": 16,
   "metadata": {},
   "outputs": [
    {
     "name": "stdout",
     "output_type": "stream",
     "text": [
      "[[8. 9. 9. 1. 3. 1. 1. 2. 2. 6. 4. 0.]\n [5. 5. 3. 4. 9. 4. 8. 5. 6. 5. 7. 6.]]\n=======按行切分==========\n[array([[8., 9., 9., 1.],\n       [5., 5., 3., 4.]]), array([[3., 1., 1., 2.],\n       [9., 4., 8., 5.]]), array([[2., 6., 4., 0.],\n       [6., 5., 7., 6.]])]\n=======按行在3,4之间切了一刀==========\n[array([[8., 9., 9.],\n       [5., 5., 3.]]), array([[1.],\n       [4.]]), array([[3., 1., 1., 2., 2., 6., 4., 0.],\n       [9., 4., 8., 5., 6., 5., 7., 6.]])]\n=======按列切分==========\n[[0. 1.]\n [5. 9.]\n [2. 2.]\n [4. 6.]\n [7. 1.]\n [7. 4.]\n [8. 4.]\n [5. 0.]\n [3. 7.]\n [4. 4.]\n [6. 5.]\n [3. 3.]]\n[array([[0., 1.],\n       [5., 9.],\n       [2., 2.],\n       [4., 6.]]), array([[7., 1.],\n       [7., 4.],\n       [8., 4.],\n       [5., 0.]]), array([[3., 7.],\n       [4., 4.],\n       [6., 5.],\n       [3., 3.]])]\n"
     ]
    }
   ],
   "source": [
    "a=np.floor(10*np.random.random((2,12)))\n",
    "print(a)\n",
    "print('=======按行切分==========')\n",
    "print(np.hsplit(a,3))\n",
    "print('=======按行在3,4之间切了一刀==========')\n",
    "print(np.hsplit(a,(3,4)))\n",
    "print('=======按列切分==========')\n",
    "a=np.floor(10*np.random.random((12,2)))\n",
    "print(a)\n",
    "\n",
    "print(np.vsplit(a,3))"
   ]
  },
  {
   "cell_type": "code",
   "execution_count": 18,
   "metadata": {
    "collapsed": false
   },
   "outputs": [
    {
     "name": "stdout",
     "output_type": "stream",
     "text": [
      "True\nFalse\n[[0. 1.]\n [5. 9.]\n [2. 2.]\n [4. 6.]\n [7. 1.]\n [7. 4.]\n [8. 4.]\n [5. 0.]\n [3. 7.]\n [4. 4.]\n [6. 5.]\n [3. 3.]]\nFalse\n[[999.   1.]\n [  5.   9.]\n [  2.   2.]\n [  4.   6.]\n [  7.   1.]\n [  7.   4.]\n [  8.   4.]\n [  5.   0.]\n [  3.   7.]\n [  4.   4.]\n [  6.   5.]\n [  3.   3.]]\n"
     ]
    }
   ],
   "source": [
    "b=a\n",
    "print (b is a)\n",
    "#浅复制,但值依然公用一个空间\n",
    "c=a.view()\n",
    "print (c is a)\n",
    "d=a.copy()\n",
    "print(a)\n",
    "print (d is a)\n",
    "d[0,0]=999\n",
    "print(d)"
   ]
  },
  {
   "cell_type": "code",
   "execution_count": 22,
   "metadata": {
    "collapsed": true
   },
   "outputs": [
    {
     "name": "stdout",
     "output_type": "stream",
     "text": [
      "[[ 0.          0.84147098  0.90929743  0.14112001]\n [-0.7568025  -0.95892427 -0.2794155   0.6569866 ]\n [ 0.98935825  0.41211849 -0.54402111 -0.99999021]\n [-0.53657292  0.42016704  0.99060736  0.65028784]\n [-0.28790332 -0.96139749 -0.75098725  0.14987721]]\n[2 0 3 1]\n4\n[0.98935825 0.84147098 0.99060736 0.6569866 ]\n"
     ]
    }
   ],
   "source": [
    "data=np.sin(np.arange(20)).reshape(5,4)\n",
    "print(data)\n",
    "#按列去最大值\n",
    "ind=data.argmax(axis=0)\n",
    "print(ind)\n",
    "print(data.shape[1])\n",
    "#把最大值列出来\n",
    "data_max=data[ind,range(data.shape[1])]\n",
    "print(data_max)"
   ]
  },
  {
   "cell_type": "code",
   "execution_count": 24,
   "metadata": {},
   "outputs": [
    {
     "name": "stdout",
     "output_type": "stream",
     "text": [
      "[ 0 10 20 30]\n[[ 0 10 20 30  0 10 20 30  0 10 20 30  0 10 20 30]\n [ 0 10 20 30  0 10 20 30  0 10 20 30  0 10 20 30]]\n"
     ]
    }
   ],
   "source": [
    "a=np.arange(0,40,10)\n",
    "print(a)\n",
    "#tile复制a 2行4列\n",
    "b=np.tile(a,(2,4))\n",
    "print(b)"
   ]
  },
  {
   "cell_type": "code",
   "execution_count": 29,
   "metadata": {},
   "outputs": [
    {
     "name": "stdout",
     "output_type": "stream",
     "text": [
      "[[3 4 5]\n [1 1 2]]\n"
     ]
    }
   ],
   "source": [
    "a=np.array([[4,3,5],[1,2,1]])\n",
    "#1按行排序 0 按列排序\n",
    "b=np.sort(a,axis=1)\n",
    "print(b)"
   ]
  },
  {
   "cell_type": "code",
   "execution_count": null,
   "metadata": {},
   "outputs": [],
   "source": []
  }
 ],
 "metadata": {
  "kernelspec": {
   "display_name": "Python 2",
   "language": "python",
   "name": "python2"
  },
  "language_info": {
   "codemirror_mode": {
    "name": "ipython",
    "version": 2
   },
   "file_extension": ".py",
   "mimetype": "text/x-python",
   "name": "python",
   "nbconvert_exporter": "python",
   "pygments_lexer": "ipython2",
   "version": "2.7.6"
  }
 },
 "nbformat": 4,
 "nbformat_minor": 0
}
